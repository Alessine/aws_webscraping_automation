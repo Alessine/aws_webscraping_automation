{
 "cells": [
  {
   "cell_type": "markdown",
   "id": "44121a52-c087-4b9a-bdcb-a37b5cf40148",
   "metadata": {},
   "source": [
    "<a id='Q0'></a>\n",
    "<center> <h1> Notebook #: Title of Notebook </h1> </center>\n",
    "<p style=\"margin-bottom:1cm;\"></p>\n",
    "<center><strong>Angela Niederberger, 2022</strong></center>\n",
    "<p style=\"margin-bottom:1cm;\"></p>\n",
    "\n",
    "<div style=\"background:#EEEDF5;border-top:0.1cm solid #EF475B;border-bottom:0.1cm solid #EF475B;\">\n",
    "    <div style=\"margin-left: 0.5cm;margin-top: 0.5cm;margin-bottom: 0.5cm;color:#303030\">\n",
    "        <p><strong>Goal:</strong> Short description of the aim of the notebook</p>\n",
    "        <strong> Outline:</strong>\n",
    "        <a id='P0' name=\"P0\"></a>\n",
    "        <ol>\n",
    "            <li> <a style=\"color:#303030\" href='#I'>Introduction </a> </li>\n",
    "            <li> <a style=\"color:#303030\" href='#SU'>Set up</a></li>\n",
    "            <li> <a style=\"color:#303030\" href='#P1'>Part 1</a></li>\n",
    "            <li> <a style=\"color:#303030\" href='#P2'>Part 2</a></li>\n",
    "            <li> <a style=\"color:#303030\" href='#P3'>Part 3</a></li>\n",
    "            <li> <a style=\"color:#303030\" href='#CL'>Conclusion</a></li>\n",
    "        </ol>\n",
    "        <strong>Keywords:</strong> data cleaning, NLP, ... list of keywords.\n",
    "    </div>\n",
    "</div>\n",
    "</nav>"
   ]
  },
  {
   "cell_type": "markdown",
   "id": "3b888b7d-daaa-42f3-bf20-8b34f2032708",
   "metadata": {},
   "source": [
    "<a id='I' name=\"I\"></a>\n",
    "## [Introduction](#P0)"
   ]
  },
  {
   "cell_type": "markdown",
   "id": "b48c8fbb-3714-4baf-93b8-ea539f476ded",
   "metadata": {},
   "source": [
    "Here you could write an introduction to the topics. Everything that is written here will appear in the live coding template notebook"
   ]
  },
  {
   "cell_type": "markdown",
   "id": "e986ed40-d5ad-4d4e-8039-a66346f7f9bd",
   "metadata": {},
   "source": [
    "<a id='SU' name=\"SU\"></a>\n",
    "## [Set up](#P0)"
   ]
  },
  {
   "cell_type": "markdown",
   "id": "4a290be9-7423-49dd-83d5-011aa101841a",
   "metadata": {},
   "source": [
    "### Packages"
   ]
  },
  {
   "cell_type": "code",
   "execution_count": 1,
   "id": "c1b2595c-4350-411c-af49-350ca1a196f8",
   "metadata": {},
   "outputs": [],
   "source": [
    "import numpy as np\n",
    "import pandas as pd\n",
    "import matplotlib.pyplot as plt\n",
    "import seaborn as sns\n",
    "import plotly.graph_objects as go\n",
    "import os"
   ]
  },
  {
   "cell_type": "markdown",
   "id": "0875f827-3f69-45ca-a7b6-f60afe2df07a",
   "metadata": {},
   "source": [
    "### Magic Commands"
   ]
  },
  {
   "cell_type": "code",
   "execution_count": 7,
   "id": "dfe5d540-623b-4221-81fb-fa7605d01c0c",
   "metadata": {},
   "outputs": [
    {
     "name": "stdout",
     "output_type": "stream",
     "text": [
      "The lab_black extension is already loaded. To reload it, use:\n",
      "  %reload_ext lab_black\n"
     ]
    }
   ],
   "source": [
    "%load_ext lab_black\n",
    "%matplotlib inline\n",
    "%config Completer.use_jedi = False"
   ]
  },
  {
   "cell_type": "markdown",
   "id": "935e1bf6-1077-47cf-9568-90c251703bd6",
   "metadata": {},
   "source": [
    "### Global Parameters Setting"
   ]
  },
  {
   "cell_type": "code",
   "execution_count": 14,
   "id": "127313b5-3286-4b4f-a4d3-a4535313e2b9",
   "metadata": {},
   "outputs": [],
   "source": [
    "plt.style.use(\"seaborn\")\n",
    "sns.set_theme(style=\"ticks\")"
   ]
  },
  {
   "cell_type": "markdown",
   "id": "717d3d83-391f-434a-91fd-60ad9eec01a9",
   "metadata": {},
   "source": [
    "### User-Dependent Variables"
   ]
  },
  {
   "cell_type": "code",
   "execution_count": null,
   "id": "5eeda66a-4d8f-46c2-9c53-7e0c273f9ed1",
   "metadata": {},
   "outputs": [],
   "source": [
    "data_path = \"../data\"\n",
    "os.getcwd()"
   ]
  },
  {
   "cell_type": "markdown",
   "id": "de42c31f-c73a-4af6-b9be-2b8f334efb27",
   "metadata": {},
   "source": [
    "<a id='P1'></a>\n",
    "## [Part one](#P0)\n",
    "\n",
    "Here you could write a paragraph on the aim of part one. You could also have some nice figures"
   ]
  },
  {
   "cell_type": "markdown",
   "id": "fe441e86-4914-490c-8edb-e5267bb8c535",
   "metadata": {},
   "source": [
    "### Subsection 1\n",
    "\n",
    "This is a subsection. It can either be tagged as a hint, a solution or not tagged."
   ]
  },
  {
   "cell_type": "code",
   "execution_count": null,
   "id": "3fe3fe2e-3817-47ac-966c-1b856235af28",
   "metadata": {},
   "outputs": [],
   "source": [
    "df_raw = pd.read_csv(f'{data_path}/filename.csv', sep=\",\")\n",
    "df_raw.head()"
   ]
  },
  {
   "cell_type": "markdown",
   "id": "629e0914-db1a-4a05-b630-336b90849980",
   "metadata": {},
   "source": [
    "<div style=\"background:#EEEDF5;color:#303030\"><div style=\"margin-left: .2cm\">\n",
    "    <b>Comments:</b>\n",
    "</div></div>\n",
    "\n",
    "<div style=\"margin-left: 0.4cm\">\n",
    "    This Markdown cell is a template to write extended comments. e.g. explain the approach taken, or concepts behind algorithm chosen. Aim at having 2 lines at least. Anything smaller can be directly integrated in the code, or gathered together with other comments to form a bigger paragraph. Since this block is within a div element, you need to use html formatting syntax, not markdown\n",
    "</div>"
   ]
  },
  {
   "cell_type": "markdown",
   "id": "951e7181-b59b-4d46-a8ec-7e40f279b9c8",
   "metadata": {},
   "source": [
    "<div style=\"background:#EEEDF5;border:0.1cm solid #00BAE5;color:#303030\">\n",
    "    <div style=\"margin: 0.2cm 0.2cm 0.2cm 0.2cm\">\n",
    "        <b style=\"color:#00BAE5\">Note:</b>\n",
    "        This is an example Blue Box\n",
    "    </div>\n",
    "</div>"
   ]
  },
  {
   "cell_type": "markdown",
   "id": "a0d090db-9712-40ad-8d7c-70dca34d256c",
   "metadata": {},
   "source": [
    "<a id='P2' name=\"P2\"></a>\n",
    "## [Part 2 title here](#P0)"
   ]
  },
  {
   "cell_type": "markdown",
   "id": "57561bd5-2390-43be-b47e-6450df034c69",
   "metadata": {},
   "source": [
    "<a id='CL'></a>\n",
    "## [Conclusion](#P0)\n",
    "\n",
    "This is a pre-written conclusion in which we have nice figures."
   ]
  },
  {
   "cell_type": "markdown",
   "id": "66741e1f-51a5-49b7-8012-077607aacbca",
   "metadata": {},
   "source": [
    "<div style=\"border-top:0.1cm solid #EF475B\"></div>\n",
    "    <strong><a href='#Q0'><div style=\"text-align: right\"> <h3>End of this Notebook.</h3></div></a></strong>"
   ]
  }
 ],
 "metadata": {
  "kernelspec": {
   "display_name": "swiss_rents",
   "language": "python",
   "name": "swiss_rents"
  },
  "language_info": {
   "codemirror_mode": {
    "name": "ipython",
    "version": 3
   },
   "file_extension": ".py",
   "mimetype": "text/x-python",
   "name": "python",
   "nbconvert_exporter": "python",
   "pygments_lexer": "ipython3",
   "version": "3.8.12"
  }
 },
 "nbformat": 4,
 "nbformat_minor": 5
}
