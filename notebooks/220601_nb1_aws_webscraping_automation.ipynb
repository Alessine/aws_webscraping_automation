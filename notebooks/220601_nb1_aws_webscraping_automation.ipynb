{
 "cells": [
  {
   "cell_type": "markdown",
   "id": "44121a52-c087-4b9a-bdcb-a37b5cf40148",
   "metadata": {},
   "source": [
    "<a id='Q0'></a>\n",
    "<center> <h1> Notebook 1: Developing a Simple Webscraping Script </h1> </center>\n",
    "<p style=\"margin-bottom:1cm;\"></p>\n",
    "<center><strong>Angela Niederberger, 2022</strong></center>\n",
    "<p style=\"margin-bottom:1cm;\"></p>\n",
    "\n",
    "<div style=\"background:#EEEDF5;border-top:0.1cm solid #EF475B;border-bottom:0.1cm solid #EF475B;\">\n",
    "    <div style=\"margin-left: 0.5cm;margin-top: 0.5cm;margin-bottom: 0.5cm;color:#303030\">\n",
    "        <p><strong>Goal:</strong> In this notebook I develop a python script to retrieve data on the most recent news items from the SRF website and save it in an AWS S3 bucket</p>\n",
    "        <strong> Outline:</strong>\n",
    "        <a id='P0' name=\"P0\"></a>\n",
    "        <ol>\n",
    "            <li> <a style=\"color:#303030\" href='#I'>Introduction </a> </li>\n",
    "            <li> <a style=\"color:#303030\" href='#SU'>Set up</a></li>\n",
    "            <li> <a style=\"color:#303030\" href='#P1'>Retrieving the Data</a></li>\n",
    "            <li> <a style=\"color:#303030\" href='#P2'>Part 2</a></li>\n",
    "            <li> <a style=\"color:#303030\" href='#P3'>Part 3</a></li>\n",
    "            <li> <a style=\"color:#303030\" href='#CL'>Conclusion</a></li>\n",
    "        </ol>\n",
    "        <strong>Keywords:</strong> Webscraping, BeautifulSoup, AWS\n",
    "    </div>\n",
    "</div>\n",
    "</nav>"
   ]
  },
  {
   "cell_type": "markdown",
   "id": "3b888b7d-daaa-42f3-bf20-8b34f2032708",
   "metadata": {},
   "source": [
    "<a id='I' name=\"I\"></a>\n",
    "## [Introduction](#P0)"
   ]
  },
  {
   "cell_type": "markdown",
   "id": "b48c8fbb-3714-4baf-93b8-ea539f476ded",
   "metadata": {},
   "source": [
    "In this notebook I first explored the following steps:\n",
    "- how to retrieve data from a website using BeautifulSoup\n",
    "- performing basic cleaning tasks on this data\n",
    "- saving it to an AWS S3 Bucket\n",
    "\n",
    "Then I rewrote my code to create a Python script that can be automated."
   ]
  },
  {
   "cell_type": "markdown",
   "id": "e986ed40-d5ad-4d4e-8039-a66346f7f9bd",
   "metadata": {},
   "source": [
    "<a id='SU' name=\"SU\"></a>\n",
    "## [Set up](#P0)\n",
    "\n",
    "I created a virtual environment and installed Python 3.10.4 in it for this project. Below are the specifics on all the packages I used. I've also summarized all of this information in the requirements file."
   ]
  },
  {
   "cell_type": "markdown",
   "id": "4a290be9-7423-49dd-83d5-011aa101841a",
   "metadata": {},
   "source": [
    "### Packages"
   ]
  },
  {
   "cell_type": "code",
   "execution_count": 1,
   "id": "c1b2595c-4350-411c-af49-350ca1a196f8",
   "metadata": {},
   "outputs": [],
   "source": [
    "# Retrieving & Wrangling Data\n",
    "import requests  # Version 2.27.1\n",
    "from bs4 import BeautifulSoup  # Version 4.11.1\n",
    "import pandas as pd  # Version 1.4.2\n",
    "from datetime import date  # Built-in Python library\n",
    "\n",
    "# Saving the Data\n",
    "import s3fs  # Version 2022.5.0"
   ]
  },
  {
   "cell_type": "markdown",
   "id": "0875f827-3f69-45ca-a7b6-f60afe2df07a",
   "metadata": {},
   "source": [
    "### Magic Commands"
   ]
  },
  {
   "cell_type": "code",
   "execution_count": 2,
   "id": "dfe5d540-623b-4221-81fb-fa7605d01c0c",
   "metadata": {},
   "outputs": [],
   "source": [
    "%config Completer.use_jedi = False"
   ]
  },
  {
   "cell_type": "markdown",
   "id": "de42c31f-c73a-4af6-b9be-2b8f334efb27",
   "metadata": {},
   "source": [
    "<a id='P1'></a>\n",
    "## [Retrieving the Data](#P0)\n",
    "\n",
    "In this first section I use requests and BeautifulSoup to retrieve data on news items from the SRF website. Then I wrangle the data into the desired format with Pandas."
   ]
  },
  {
   "cell_type": "markdown",
   "id": "fe441e86-4914-490c-8edb-e5267bb8c535",
   "metadata": {},
   "source": [
    "### Webscraping\n",
    "\n",
    "Below is a simple webscraping script which serves to extract the publishing time and teaser data of all news articles found on https://www.srf.ch/news/das-neueste on any specific day.\n",
    "\n",
    "Here's an excellent ressource for more information on webscraping: https://realpython.com/beautiful-soup-web-scraper-python/."
   ]
  },
  {
   "cell_type": "code",
   "execution_count": 3,
   "id": "2dfecab4-7524-4d7c-a003-56c22e01e729",
   "metadata": {
    "tags": []
   },
   "outputs": [
    {
     "data": {
      "text/html": [
       "<div>\n",
       "<style scoped>\n",
       "    .dataframe tbody tr th:only-of-type {\n",
       "        vertical-align: middle;\n",
       "    }\n",
       "\n",
       "    .dataframe tbody tr th {\n",
       "        vertical-align: top;\n",
       "    }\n",
       "\n",
       "    .dataframe thead th {\n",
       "        text-align: right;\n",
       "    }\n",
       "</style>\n",
       "<table border=\"1\" class=\"dataframe\">\n",
       "  <thead>\n",
       "    <tr style=\"text-align: right;\">\n",
       "      <th></th>\n",
       "      <th>time_published</th>\n",
       "      <th>kicker</th>\n",
       "      <th>title</th>\n",
       "      <th>lead</th>\n",
       "    </tr>\n",
       "  </thead>\n",
       "  <tbody>\n",
       "    <tr>\n",
       "      <th>0</th>\n",
       "      <td>2022-06-01T10:07:00+02:00</td>\n",
       "      <td>Rückkehr in die Super League</td>\n",
       "      <td>Itten unterschreibt bei YB</td>\n",
       "      <td>Cedric Itten wechselt von den Glasgow Rangers ...</td>\n",
       "    </tr>\n",
       "    <tr>\n",
       "      <th>1</th>\n",
       "      <td>2022-06-01T09:46:00+02:00</td>\n",
       "      <td>Mieterhöhungen ausgeschlossen</td>\n",
       "      <td>Referenzzinssatz für Wohnungsmieten bleibt bei...</td>\n",
       "      <td>Der rekordtiefe Wert hat sich laut Bundesamt f...</td>\n",
       "    </tr>\n",
       "    <tr>\n",
       "      <th>2</th>\n",
       "      <td>2022-06-01T08:50:00+02:00</td>\n",
       "      <td>Chinas Null-Covid-Politik</td>\n",
       "      <td>«Der Lockdown in Schanghai hat tiefe Narben hi...</td>\n",
       "      <td>Die Öffnungseuphorie in Chinas Metropole sei g...</td>\n",
       "    </tr>\n",
       "    <tr>\n",
       "      <th>3</th>\n",
       "      <td>2022-06-01T08:37:00+02:00</td>\n",
       "      <td>Schotten als erste Hürde</td>\n",
       "      <td>Die Ukraine kämpft um mehr als das WM-Ticket</td>\n",
       "      <td>In Glasgow wollen die Ukrainer in den WM-Playo...</td>\n",
       "    </tr>\n",
       "    <tr>\n",
       "      <th>4</th>\n",
       "      <td>2022-06-01T07:06:00+02:00</td>\n",
       "      <td>Playoff-Halbfinal in der NHL</td>\n",
       "      <td>Colorado Avalanche bezwingt die Oilers in eine...</td>\n",
       "      <td>Zum Auftakt der Playoff-Halbfinals in Nordamer...</td>\n",
       "    </tr>\n",
       "  </tbody>\n",
       "</table>\n",
       "</div>"
      ],
      "text/plain": [
       "              time_published                         kicker  \\\n",
       "0  2022-06-01T10:07:00+02:00   Rückkehr in die Super League   \n",
       "1  2022-06-01T09:46:00+02:00  Mieterhöhungen ausgeschlossen   \n",
       "2  2022-06-01T08:50:00+02:00      Chinas Null-Covid-Politik   \n",
       "3  2022-06-01T08:37:00+02:00       Schotten als erste Hürde   \n",
       "4  2022-06-01T07:06:00+02:00   Playoff-Halbfinal in der NHL   \n",
       "\n",
       "                                               title  \\\n",
       "0                         Itten unterschreibt bei YB   \n",
       "1  Referenzzinssatz für Wohnungsmieten bleibt bei...   \n",
       "2  «Der Lockdown in Schanghai hat tiefe Narben hi...   \n",
       "3       Die Ukraine kämpft um mehr als das WM-Ticket   \n",
       "4  Colorado Avalanche bezwingt die Oilers in eine...   \n",
       "\n",
       "                                                lead  \n",
       "0  Cedric Itten wechselt von den Glasgow Rangers ...  \n",
       "1  Der rekordtiefe Wert hat sich laut Bundesamt f...  \n",
       "2  Die Öffnungseuphorie in Chinas Metropole sei g...  \n",
       "3  In Glasgow wollen die Ukrainer in den WM-Playo...  \n",
       "4  Zum Auftakt der Playoff-Halbfinals in Nordamer...  "
      ]
     },
     "execution_count": 3,
     "metadata": {},
     "output_type": "execute_result"
    }
   ],
   "source": [
    "# This is the static page to scrape\n",
    "URL = \"https://www.srf.ch/news/das-neueste\"\n",
    "page = requests.get(URL)\n",
    "\n",
    "# Then parse it\n",
    "soup = BeautifulSoup(page.content, \"html.parser\")\n",
    "\n",
    "# Get the different elements\n",
    "teaser_lists = soup.find_all(\"div\", class_=\"js-teaser-data\")\n",
    "kickers = soup.find_all(\"span\", class_=\"teaser__kicker-text\")\n",
    "titles = soup.find_all(\"span\", class_=\"teaser__title\")\n",
    "leads = soup.find_all(\"p\", class_=\"teaser__lead\")\n",
    "\n",
    "# Iterate through the elements and extract the relevant information\n",
    "news_snippet_dict = {\n",
    "    \"time_published\": [],\n",
    "    \"kicker\": [],\n",
    "    \"title\": [],\n",
    "    \"lead\": []\n",
    "}\n",
    "\n",
    "for (teaser_list, kicker, title, lead) in zip(teaser_lists, kickers, titles, leads):\n",
    "    news_snippet_dict[\"time_published\"].append(teaser_list.get(\"data-date-published\"))\n",
    "    news_snippet_dict[\"kicker\"].append(kicker.get_text())\n",
    "    news_snippet_dict[\"title\"].append(title.get_text())\n",
    "    news_snippet_dict[\"lead\"].append(lead.get_text())\n",
    "    \n",
    "news_snippets_df = pd.DataFrame(news_snippet_dict)\n",
    "news_snippets_df.head()"
   ]
  },
  {
   "cell_type": "markdown",
   "id": "0f7e85fd-75b9-445b-9fc3-1df02476e5af",
   "metadata": {},
   "source": [
    "### Data Wrangling"
   ]
  },
  {
   "cell_type": "code",
   "execution_count": 4,
   "id": "715e89a8-701d-46af-83e0-5fcdc784a75e",
   "metadata": {},
   "outputs": [],
   "source": [
    "# Turn the publishing time into a timestamp\n",
    "news_snippets_df[\"time_published\"] = pd.to_datetime(news_snippets_df[\"time_published\"])\n",
    "\n",
    "# Select only news from this day\n",
    "news_snippets_df = news_snippets_df[news_snippets_df[\"time_published\"].dt.date==date.today()]"
   ]
  },
  {
   "cell_type": "code",
   "execution_count": 5,
   "id": "c442ba1c-e8be-4ccc-87ed-e0c6a598d88f",
   "metadata": {},
   "outputs": [
    {
     "name": "stdout",
     "output_type": "stream",
     "text": [
      "<class 'pandas.core.frame.DataFrame'>\n",
      "Int64Index: 11 entries, 0 to 10\n",
      "Data columns (total 4 columns):\n",
      " #   Column          Non-Null Count  Dtype                                \n",
      "---  ------          --------------  -----                                \n",
      " 0   time_published  11 non-null     datetime64[ns, pytz.FixedOffset(120)]\n",
      " 1   kicker          11 non-null     object                               \n",
      " 2   title           11 non-null     object                               \n",
      " 3   lead            11 non-null     object                               \n",
      "dtypes: datetime64[ns, pytz.FixedOffset(120)](1), object(3)\n",
      "memory usage: 440.0+ bytes\n"
     ]
    }
   ],
   "source": [
    "news_snippets_df.info()"
   ]
  },
  {
   "cell_type": "markdown",
   "id": "629e0914-db1a-4a05-b630-336b90849980",
   "metadata": {},
   "source": [
    "<div style=\"background:#EEEDF5;color:#303030\"><div style=\"margin-left: .2cm\">\n",
    "    <b>Comments:</b>\n",
    "</div></div>\n",
    "\n",
    "<div style=\"margin-left: 0.4cm\">\n",
    "    This Markdown cell is a template to write extended comments. e.g. explain the approach taken, or concepts behind algorithm chosen. Aim at having 2 lines at least. Anything smaller can be directly integrated in the code, or gathered together with other comments to form a bigger paragraph. Since this block is within a div element, you need to use html formatting syntax, not markdown\n",
    "</div>"
   ]
  },
  {
   "cell_type": "markdown",
   "id": "951e7181-b59b-4d46-a8ec-7e40f279b9c8",
   "metadata": {},
   "source": [
    "<div style=\"background:#EEEDF5;border:0.1cm solid #00BAE5;color:#303030\">\n",
    "    <div style=\"margin: 0.2cm 0.2cm 0.2cm 0.2cm\">\n",
    "        <b style=\"color:#00BAE5\">Note:</b>\n",
    "        This is an example Blue Box\n",
    "    </div>\n",
    "</div>"
   ]
  },
  {
   "attachments": {
    "974992ca-024e-4cba-aef8-aae97cc9c388.png": {
     "image/png": "[encoded data removed]"
    }
   },
   "cell_type": "markdown",
   "id": "a0d090db-9712-40ad-8d7c-70dca34d256c",
   "metadata": {},
   "source": [
    "<a id='P2' name=\"P2\"></a>\n",
    "## [Saving the Data](#P0)\n",
    "\n",
    "Sign up for an AWS account, create an Admin User and give the user access to the bucket. Follow these instructions: https://docs.aws.amazon.com/AmazonS3/latest/userguide/example-walkthroughs-managing-access-example1.html.\n",
    "\n",
    "As a next step, I want to save the retrieved data to an AWS S3 Bucket. For this purpose, I had to create an AWS account here: https://aws.amazon.com/ and save the credentials on my computer. Then I created the bucket following these instructions: https://docs.aws.amazon.com/AmazonS3/latest/userguide/create-bucket-overview.html. The name of my bucket is `srf-news-snippets` and the region is `eu-central-1`. I kept the default options for all the other settings.\n",
    "\n",
    "![aws_create_bucket.png](attachment:974992ca-024e-4cba-aef8-aae97cc9c388.png)\n",
    "\n",
    "To stay organized, I created a `data` folder in my S3 Bucket (as is clear from the path I'm using below). Once all of this is done, so I can get started with the code below. I am using the S3fs package which is used specifically for working with S3 Buckets."
   ]
  },
  {
   "cell_type": "code",
   "execution_count": 26,
   "id": "9257c4a3-5234-49a4-8e72-9b2e970d3ca8",
   "metadata": {},
   "outputs": [],
   "source": [
    "# Create connection to AWS S3 Bucket\n",
    "fs = s3fs.S3FileSystem(anon=False)\n",
    "\n",
    "# Define the path for the file\n",
    "s3_folder_path = \"s3://srf-news-snippets/data\"\n",
    "filename = f\"{date.today()}_srf_news_snippets.csv\"\n",
    "\n",
    "# Save the file\n",
    "news_snippets_df.to_csv(f\"{s3_folder_path}/{filename}\")"
   ]
  },
  {
   "cell_type": "code",
   "execution_count": 25,
   "id": "75f91b0d-20c0-4e05-8394-da3d234875e1",
   "metadata": {},
   "outputs": [
    {
     "ename": "PermissionError",
     "evalue": "Access Denied",
     "output_type": "error",
     "traceback": [
      "\u001b[0;31m---------------------------------------------------------------------------\u001b[0m",
      "\u001b[0;31mClientError\u001b[0m                               Traceback (most recent call last)",
      "File \u001b[0;32m~/anaconda3/envs/aws_webscraping_automation/lib/python3.10/site-packages/s3fs/core.py:646\u001b[0m, in \u001b[0;36mS3FileSystem._lsdir\u001b[0;34m(self, path, refresh, max_items, delimiter, prefix)\u001b[0m\n\u001b[1;32m    645\u001b[0m dircache \u001b[38;5;241m=\u001b[39m []\n\u001b[0;32m--> 646\u001b[0m \u001b[38;5;28;01masync\u001b[39;00m \u001b[38;5;28;01mfor\u001b[39;00m i \u001b[38;5;129;01min\u001b[39;00m it:\n\u001b[1;32m    647\u001b[0m     dircache\u001b[38;5;241m.\u001b[39mextend(i\u001b[38;5;241m.\u001b[39mget(\u001b[38;5;124m\"\u001b[39m\u001b[38;5;124mCommonPrefixes\u001b[39m\u001b[38;5;124m\"\u001b[39m, []))\n",
      "File \u001b[0;32m~/anaconda3/envs/aws_webscraping_automation/lib/python3.10/site-packages/aiobotocore/paginate.py:32\u001b[0m, in \u001b[0;36mAioPageIterator.__anext__\u001b[0;34m(self)\u001b[0m\n\u001b[1;32m     31\u001b[0m \u001b[38;5;28;01mwhile\u001b[39;00m \u001b[38;5;28;01mTrue\u001b[39;00m:\n\u001b[0;32m---> 32\u001b[0m     response \u001b[38;5;241m=\u001b[39m \u001b[38;5;28;01mawait\u001b[39;00m \u001b[38;5;28mself\u001b[39m\u001b[38;5;241m.\u001b[39m_make_request(current_kwargs)\n\u001b[1;32m     33\u001b[0m     parsed \u001b[38;5;241m=\u001b[39m \u001b[38;5;28mself\u001b[39m\u001b[38;5;241m.\u001b[39m_extract_parsed_response(response)\n",
      "File \u001b[0;32m~/anaconda3/envs/aws_webscraping_automation/lib/python3.10/site-packages/aiobotocore/client.py:265\u001b[0m, in \u001b[0;36mAioBaseClient._make_api_call\u001b[0;34m(self, operation_name, api_params)\u001b[0m\n\u001b[1;32m    264\u001b[0m     error_class \u001b[38;5;241m=\u001b[39m \u001b[38;5;28mself\u001b[39m\u001b[38;5;241m.\u001b[39mexceptions\u001b[38;5;241m.\u001b[39mfrom_code(error_code)\n\u001b[0;32m--> 265\u001b[0m     \u001b[38;5;28;01mraise\u001b[39;00m error_class(parsed_response, operation_name)\n\u001b[1;32m    266\u001b[0m \u001b[38;5;28;01melse\u001b[39;00m:\n",
      "\u001b[0;31mClientError\u001b[0m: An error occurred (AccessDenied) when calling the ListObjectsV2 operation: Access Denied",
      "\nThe above exception was the direct cause of the following exception:\n",
      "\u001b[0;31mPermissionError\u001b[0m                           Traceback (most recent call last)",
      "Input \u001b[0;32mIn [25]\u001b[0m, in \u001b[0;36m<cell line: 4>\u001b[0;34m()\u001b[0m\n\u001b[1;32m      1\u001b[0m \u001b[38;5;66;03m# Create connection to AWS S3 Bucket\u001b[39;00m\n\u001b[1;32m      2\u001b[0m fs \u001b[38;5;241m=\u001b[39m s3fs\u001b[38;5;241m.\u001b[39mS3FileSystem(anon\u001b[38;5;241m=\u001b[39m\u001b[38;5;28;01mFalse\u001b[39;00m)\n\u001b[0;32m----> 4\u001b[0m \u001b[43mfs\u001b[49m\u001b[38;5;241;43m.\u001b[39;49m\u001b[43mls\u001b[49m\u001b[43m(\u001b[49m\u001b[38;5;124;43m\"\u001b[39;49m\u001b[38;5;124;43ms3://srf-news-snippets\u001b[39;49m\u001b[38;5;124;43m\"\u001b[39;49m\u001b[43m)\u001b[49m\n",
      "File \u001b[0;32m~/anaconda3/envs/aws_webscraping_automation/lib/python3.10/site-packages/fsspec/asyn.py:86\u001b[0m, in \u001b[0;36msync_wrapper.<locals>.wrapper\u001b[0;34m(*args, **kwargs)\u001b[0m\n\u001b[1;32m     83\u001b[0m \u001b[38;5;129m@functools\u001b[39m\u001b[38;5;241m.\u001b[39mwraps(func)\n\u001b[1;32m     84\u001b[0m \u001b[38;5;28;01mdef\u001b[39;00m \u001b[38;5;21mwrapper\u001b[39m(\u001b[38;5;241m*\u001b[39margs, \u001b[38;5;241m*\u001b[39m\u001b[38;5;241m*\u001b[39mkwargs):\n\u001b[1;32m     85\u001b[0m     \u001b[38;5;28mself\u001b[39m \u001b[38;5;241m=\u001b[39m obj \u001b[38;5;129;01mor\u001b[39;00m args[\u001b[38;5;241m0\u001b[39m]\n\u001b[0;32m---> 86\u001b[0m     \u001b[38;5;28;01mreturn\u001b[39;00m \u001b[43msync\u001b[49m\u001b[43m(\u001b[49m\u001b[38;5;28;43mself\u001b[39;49m\u001b[38;5;241;43m.\u001b[39;49m\u001b[43mloop\u001b[49m\u001b[43m,\u001b[49m\u001b[43m \u001b[49m\u001b[43mfunc\u001b[49m\u001b[43m,\u001b[49m\u001b[43m \u001b[49m\u001b[38;5;241;43m*\u001b[39;49m\u001b[43margs\u001b[49m\u001b[43m,\u001b[49m\u001b[43m \u001b[49m\u001b[38;5;241;43m*\u001b[39;49m\u001b[38;5;241;43m*\u001b[39;49m\u001b[43mkwargs\u001b[49m\u001b[43m)\u001b[49m\n",
      "File \u001b[0;32m~/anaconda3/envs/aws_webscraping_automation/lib/python3.10/site-packages/fsspec/asyn.py:66\u001b[0m, in \u001b[0;36msync\u001b[0;34m(loop, func, timeout, *args, **kwargs)\u001b[0m\n\u001b[1;32m     64\u001b[0m     \u001b[38;5;28;01mraise\u001b[39;00m FSTimeoutError \u001b[38;5;28;01mfrom\u001b[39;00m \u001b[38;5;21;01mreturn_result\u001b[39;00m\n\u001b[1;32m     65\u001b[0m \u001b[38;5;28;01melif\u001b[39;00m \u001b[38;5;28misinstance\u001b[39m(return_result, \u001b[38;5;167;01mBaseException\u001b[39;00m):\n\u001b[0;32m---> 66\u001b[0m     \u001b[38;5;28;01mraise\u001b[39;00m return_result\n\u001b[1;32m     67\u001b[0m \u001b[38;5;28;01melse\u001b[39;00m:\n\u001b[1;32m     68\u001b[0m     \u001b[38;5;28;01mreturn\u001b[39;00m return_result\n",
      "File \u001b[0;32m~/anaconda3/envs/aws_webscraping_automation/lib/python3.10/site-packages/fsspec/asyn.py:26\u001b[0m, in \u001b[0;36m_runner\u001b[0;34m(event, coro, result, timeout)\u001b[0m\n\u001b[1;32m     24\u001b[0m     coro \u001b[38;5;241m=\u001b[39m asyncio\u001b[38;5;241m.\u001b[39mwait_for(coro, timeout\u001b[38;5;241m=\u001b[39mtimeout)\n\u001b[1;32m     25\u001b[0m \u001b[38;5;28;01mtry\u001b[39;00m:\n\u001b[0;32m---> 26\u001b[0m     result[\u001b[38;5;241m0\u001b[39m] \u001b[38;5;241m=\u001b[39m \u001b[38;5;28;01mawait\u001b[39;00m coro\n\u001b[1;32m     27\u001b[0m \u001b[38;5;28;01mexcept\u001b[39;00m \u001b[38;5;167;01mException\u001b[39;00m \u001b[38;5;28;01mas\u001b[39;00m ex:\n\u001b[1;32m     28\u001b[0m     result[\u001b[38;5;241m0\u001b[39m] \u001b[38;5;241m=\u001b[39m ex\n",
      "File \u001b[0;32m~/anaconda3/envs/aws_webscraping_automation/lib/python3.10/site-packages/s3fs/core.py:863\u001b[0m, in \u001b[0;36mS3FileSystem._ls\u001b[0;34m(self, path, detail, refresh)\u001b[0m\n\u001b[1;32m    861\u001b[0m     files \u001b[38;5;241m=\u001b[39m \u001b[38;5;28;01mawait\u001b[39;00m \u001b[38;5;28mself\u001b[39m\u001b[38;5;241m.\u001b[39m_lsbuckets(refresh)\n\u001b[1;32m    862\u001b[0m \u001b[38;5;28;01melse\u001b[39;00m:\n\u001b[0;32m--> 863\u001b[0m     files \u001b[38;5;241m=\u001b[39m \u001b[38;5;28;01mawait\u001b[39;00m \u001b[38;5;28mself\u001b[39m\u001b[38;5;241m.\u001b[39m_lsdir(path, refresh)\n\u001b[1;32m    864\u001b[0m     \u001b[38;5;28;01mif\u001b[39;00m \u001b[38;5;129;01mnot\u001b[39;00m files \u001b[38;5;129;01mand\u001b[39;00m \u001b[38;5;124m\"\u001b[39m\u001b[38;5;124m/\u001b[39m\u001b[38;5;124m\"\u001b[39m \u001b[38;5;129;01min\u001b[39;00m path:\n\u001b[1;32m    865\u001b[0m         files \u001b[38;5;241m=\u001b[39m \u001b[38;5;28;01mawait\u001b[39;00m \u001b[38;5;28mself\u001b[39m\u001b[38;5;241m.\u001b[39m_lsdir(\u001b[38;5;28mself\u001b[39m\u001b[38;5;241m.\u001b[39m_parent(path), refresh\u001b[38;5;241m=\u001b[39mrefresh)\n",
      "File \u001b[0;32m~/anaconda3/envs/aws_webscraping_automation/lib/python3.10/site-packages/s3fs/core.py:669\u001b[0m, in \u001b[0;36mS3FileSystem._lsdir\u001b[0;34m(self, path, refresh, max_items, delimiter, prefix)\u001b[0m\n\u001b[1;32m    667\u001b[0m         f[\u001b[38;5;124m\"\u001b[39m\u001b[38;5;124mname\u001b[39m\u001b[38;5;124m\"\u001b[39m] \u001b[38;5;241m=\u001b[39m f[\u001b[38;5;124m\"\u001b[39m\u001b[38;5;124mKey\u001b[39m\u001b[38;5;124m\"\u001b[39m]\n\u001b[1;32m    668\u001b[0m \u001b[38;5;28;01mexcept\u001b[39;00m ClientError \u001b[38;5;28;01mas\u001b[39;00m e:\n\u001b[0;32m--> 669\u001b[0m     \u001b[38;5;28;01mraise\u001b[39;00m translate_boto_error(e)\n\u001b[1;32m    671\u001b[0m \u001b[38;5;28;01mif\u001b[39;00m delimiter \u001b[38;5;129;01mand\u001b[39;00m files:\n\u001b[1;32m    672\u001b[0m     \u001b[38;5;28mself\u001b[39m\u001b[38;5;241m.\u001b[39mdircache[path] \u001b[38;5;241m=\u001b[39m files\n",
      "\u001b[0;31mPermissionError\u001b[0m: Access Denied"
     ]
    }
   ],
   "source": [
    "# Create connection to AWS S3 Bucket\n",
    "fs = s3fs.S3FileSystem(anon=False)\n",
    "\n",
    "fs.ls(\"s3://srf-news-snippets\")"
   ]
  },
  {
   "cell_type": "markdown",
   "id": "d5dacdda-9bfb-49f2-b1ef-4cffaa41ae81",
   "metadata": {},
   "source": [
    "<a id='P2' name=\"P2\"></a>\n",
    "## [Code Refactor](#P0)"
   ]
  },
  {
   "cell_type": "code",
   "execution_count": 7,
   "id": "2bed96e8-24c5-4013-8425-2adf46aa75ed",
   "metadata": {},
   "outputs": [],
   "source": [
    "def scrape_srf_daily_news(URL):\n",
    "    page = requests.get(URL)\n",
    "\n",
    "    # Then parse it\n",
    "    soup = BeautifulSoup(page.content, \"html.parser\")\n",
    "\n",
    "    # Get the different elements\n",
    "    teaser_lists = soup.find_all(\"div\", \n",
    "                                 class_=\"js-teaser-data\")\n",
    "    kickers = soup.find_all(\"span\", class_=\"teaser__kicker-text\")\n",
    "    titles = soup.find_all(\"span\", class_=\"teaser__title\")\n",
    "    leads = soup.find_all(\"p\", class_=\"teaser__lead\")\n",
    "\n",
    "    # Iterate through the elements and extract the relevant information\n",
    "    news_snippet_dict = {\n",
    "        \"time_published\": [],\n",
    "        \"kicker\": [],\n",
    "        \"title\": [],\n",
    "        \"lead\": []\n",
    "    }\n",
    "\n",
    "    for (teaser_list, kicker, title, lead) in zip(teaser_lists, kickers, titles, leads):\n",
    "        news_snippet_dict[\"time_published\"].append(teaser_list.get(\"data-date-published\"))\n",
    "        news_snippet_dict[\"kicker\"].append(kicker.get_text())\n",
    "        news_snippet_dict[\"title\"].append(title.get_text())\n",
    "        news_snippet_dict[\"lead\"].append(lead.get_text())\n",
    "\n",
    "    news_snippets_df = pd.DataFrame(news_snippet_dict)\n",
    "    \n",
    "    # Turn the publishing time into a timestamp\n",
    "    news_snippets_df[\"time_published\"] = pd.to_datetime(news_snippets_df[\"time_published\"])\n",
    "\n",
    "    # Select only news from this day\n",
    "    news_snippets_df = news_snippets_df[news_snippets_df[\"time_published\"].dt.date==\n",
    "                                        date.today()]\n",
    "    \n",
    "    return news_snippets_df"
   ]
  },
  {
   "cell_type": "markdown",
   "id": "57561bd5-2390-43be-b47e-6450df034c69",
   "metadata": {},
   "source": [
    "<a id='CL'></a>\n",
    "## [Conclusion](#P0)\n",
    "\n",
    "This is a pre-written conclusion in which we have nice figures."
   ]
  },
  {
   "cell_type": "markdown",
   "id": "66741e1f-51a5-49b7-8012-077607aacbca",
   "metadata": {},
   "source": [
    "<div style=\"border-top:0.1cm solid #EF475B\"></div>\n",
    "    <strong><a href='#Q0'><div style=\"text-align: right\"> <h3>End of this Notebook.</h3></div></a></strong>"
   ]
  }
 ],
 "metadata": {
  "kernelspec": {
   "display_name": "aws_webscraping_automation",
   "language": "python",
   "name": "aws_webscraping_automation"
  },
  "language_info": {
   "codemirror_mode": {
    "name": "ipython",
    "version": 3
   },
   "file_extension": ".py",
   "mimetype": "text/x-python",
   "name": "python",
   "nbconvert_exporter": "python",
   "pygments_lexer": "ipython3",
   "version": "3.10.4"
  }
 },
 "nbformat": 4,
 "nbformat_minor": 5
}
