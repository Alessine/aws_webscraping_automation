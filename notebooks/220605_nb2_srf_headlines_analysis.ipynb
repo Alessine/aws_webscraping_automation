{
 "cells": [
  {
   "cell_type": "markdown",
   "id": "44121a52-c087-4b9a-bdcb-a37b5cf40148",
   "metadata": {},
   "source": [
    "<a id='Q0'></a>\n",
    "<center> <h1> Notebook 2: SRF News Headlines Analysis</h1> </center>\n",
    "<p style=\"margin-bottom:1cm;\"></p>\n",
    "<center><strong>Angela Niederberger, 2022</strong></center>\n",
    "<p style=\"margin-bottom:1cm;\"></p>\n",
    "\n",
    "<div style=\"background:#EEEDF5;border-top:0.1cm solid #EF475B;border-bottom:0.1cm solid #EF475B;\">\n",
    "    <div style=\"margin-left: 0.5cm;margin-top: 0.5cm;margin-bottom: 0.5cm;color:#303030\">\n",
    "        <p><strong>Goal:</strong> In this notebook I perform a preliminary explorative analysis of the new headlines data scraped from the SRF website.</p>\n",
    "        <strong> Outline:</strong>\n",
    "        <a id='P0' name=\"P0\"></a>\n",
    "        <ol>\n",
    "            <li> <a style=\"color:#303030\" href='#I'>Introduction </a> </li>\n",
    "            <li> <a style=\"color:#303030\" href='#SU'>Set up</a></li>\n",
    "            <li> <a style=\"color:#303030\" href='#P1'>Explorative Analysis</a></li>\n",
    "            <li> <a style=\"color:#303030\" href='#P2'>Saving the Data</a></li>\n",
    "            <li> <a style=\"color:#303030\" href='#P3'>Code Refactor</a></li>\n",
    "            <li> <a style=\"color:#303030\" href='#CL'>Conclusion</a></li>\n",
    "        </ol>\n",
    "        <strong>Keywords:</strong> EDA, BeautifulSoup, AWS S3\n",
    "    </div>\n",
    "</div>\n",
    "</nav>"
   ]
  },
  {
   "cell_type": "markdown",
   "id": "3b888b7d-daaa-42f3-bf20-8b34f2032708",
   "metadata": {},
   "source": [
    "<a id='I' name=\"I\"></a>\n",
    "## [Introduction](#P0)"
   ]
  },
  {
   "cell_type": "markdown",
   "id": "b48c8fbb-3714-4baf-93b8-ea539f476ded",
   "metadata": {},
   "source": [
    "In the first notebook I documented how to create a dataset on SRF news headlines using an automated webscraping script on AWS. Now I will have a look at the data I collected to monitor if the scraping is working as expected and to gain some first insights into the data itself.\n"
   ]
  },
  {
   "cell_type": "markdown",
   "id": "e986ed40-d5ad-4d4e-8039-a66346f7f9bd",
   "metadata": {},
   "source": [
    "<a id='SU' name=\"SU\"></a>\n",
    "## [Set up](#P0)\n",
    "\n",
    "I created a virtual environment and installed Python 3.10.4 in it for this project. Below are the specifics on all the packages I used. I've also summarized all of this information in the requirements file."
   ]
  },
  {
   "cell_type": "markdown",
   "id": "4a290be9-7423-49dd-83d5-011aa101841a",
   "metadata": {},
   "source": [
    "### Packages"
   ]
  },
  {
   "cell_type": "code",
   "execution_count": 100,
   "id": "c1b2595c-4350-411c-af49-350ca1a196f8",
   "metadata": {},
   "outputs": [],
   "source": [
    "import pandas as pd  # Version 1.4.2\n",
    "import s3fs  # Version 2022.5.0"
   ]
  },
  {
   "cell_type": "markdown",
   "id": "0875f827-3f69-45ca-a7b6-f60afe2df07a",
   "metadata": {},
   "source": [
    "### Magic Commands"
   ]
  },
  {
   "cell_type": "code",
   "execution_count": 3,
   "id": "dfe5d540-623b-4221-81fb-fa7605d01c0c",
   "metadata": {},
   "outputs": [],
   "source": [
    "%config Completer.use_jedi = False"
   ]
  },
  {
   "cell_type": "markdown",
   "id": "8e57cc3d",
   "metadata": {},
   "source": [
    "### Global Variables"
   ]
  },
  {
   "cell_type": "code",
   "execution_count": 99,
   "id": "8363970e",
   "metadata": {},
   "outputs": [],
   "source": [
    "s3_folder_path = \"s3://srf-news-snippets/data/\""
   ]
  },
  {
   "cell_type": "markdown",
   "id": "15dbde50",
   "metadata": {},
   "source": [
    "### Reading in the Data"
   ]
  },
  {
   "cell_type": "code",
   "execution_count": 93,
   "id": "780f707b",
   "metadata": {},
   "outputs": [
    {
     "data": {
      "text/html": [
       "<div>\n",
       "<style scoped>\n",
       "    .dataframe tbody tr th:only-of-type {\n",
       "        vertical-align: middle;\n",
       "    }\n",
       "\n",
       "    .dataframe tbody tr th {\n",
       "        vertical-align: top;\n",
       "    }\n",
       "\n",
       "    .dataframe thead th {\n",
       "        text-align: right;\n",
       "    }\n",
       "</style>\n",
       "<table border=\"1\" class=\"dataframe\">\n",
       "  <thead>\n",
       "    <tr style=\"text-align: right;\">\n",
       "      <th></th>\n",
       "      <th>time_published</th>\n",
       "      <th>kicker</th>\n",
       "      <th>title</th>\n",
       "      <th>lead</th>\n",
       "      <th>date</th>\n",
       "      <th>weekday</th>\n",
       "    </tr>\n",
       "  </thead>\n",
       "  <tbody>\n",
       "    <tr>\n",
       "      <th>0</th>\n",
       "      <td>2022-06-01 22:57:00+02:00</td>\n",
       "      <td>3:1-Erfolg in Schottland</td>\n",
       "      <td>Entschlossene Ukraine darf weiter von der WM t...</td>\n",
       "      <td>In einem hochemotionalen Playoff-Halbfinal der...</td>\n",
       "      <td>2022-06-01</td>\n",
       "      <td>Wednesday</td>\n",
       "    </tr>\n",
       "    <tr>\n",
       "      <th>1</th>\n",
       "      <td>2022-06-01 22:09:00+02:00</td>\n",
       "      <td>Weg zur Energiewende</td>\n",
       "      <td>Energiegesetze: Wie viel Zwang ist möglich?</td>\n",
       "      <td>Aargau und Solothurn überarbeiten ihre Energie...</td>\n",
       "      <td>2022-06-01</td>\n",
       "      <td>Wednesday</td>\n",
       "    </tr>\n",
       "    <tr>\n",
       "      <th>2</th>\n",
       "      <td>2022-06-01 21:37:00+02:00</td>\n",
       "      <td>Repression in der Türkei</td>\n",
       "      <td>Erdogan fürchtet um seine Macht</td>\n",
       "      <td>Wer nicht für ihn ist, ist gegen ihn: Erdogan ...</td>\n",
       "      <td>2022-06-01</td>\n",
       "      <td>Wednesday</td>\n",
       "    </tr>\n",
       "    <tr>\n",
       "      <th>3</th>\n",
       "      <td>2022-06-01 21:32:00+02:00</td>\n",
       "      <td>Depp vs. Heard</td>\n",
       "      <td>Johnny Depp gewinnt Verleumdungsprozess gegen ...</td>\n",
       "      <td>Die Geschworenen haben dem Hollywood-Star eine...</td>\n",
       "      <td>2022-06-01</td>\n",
       "      <td>Wednesday</td>\n",
       "    </tr>\n",
       "    <tr>\n",
       "      <th>4</th>\n",
       "      <td>2022-06-01 21:08:00+02:00</td>\n",
       "      <td>Paris: Viertelfinals Männer</td>\n",
       "      <td>Cilic auch von Rublew nicht zu stoppen</td>\n",
       "      <td>Marin Cilic schlägt Andrej Rublew in 5 Sätzen ...</td>\n",
       "      <td>2022-06-01</td>\n",
       "      <td>Wednesday</td>\n",
       "    </tr>\n",
       "  </tbody>\n",
       "</table>\n",
       "</div>"
      ],
      "text/plain": [
       "             time_published                       kicker  \\\n",
       "0 2022-06-01 22:57:00+02:00     3:1-Erfolg in Schottland   \n",
       "1 2022-06-01 22:09:00+02:00         Weg zur Energiewende   \n",
       "2 2022-06-01 21:37:00+02:00     Repression in der Türkei   \n",
       "3 2022-06-01 21:32:00+02:00               Depp vs. Heard   \n",
       "4 2022-06-01 21:08:00+02:00  Paris: Viertelfinals Männer   \n",
       "\n",
       "                                               title  \\\n",
       "0  Entschlossene Ukraine darf weiter von der WM t...   \n",
       "1        Energiegesetze: Wie viel Zwang ist möglich?   \n",
       "2                    Erdogan fürchtet um seine Macht   \n",
       "3  Johnny Depp gewinnt Verleumdungsprozess gegen ...   \n",
       "4             Cilic auch von Rublew nicht zu stoppen   \n",
       "\n",
       "                                                lead        date    weekday  \n",
       "0  In einem hochemotionalen Playoff-Halbfinal der...  2022-06-01  Wednesday  \n",
       "1  Aargau und Solothurn überarbeiten ihre Energie...  2022-06-01  Wednesday  \n",
       "2  Wer nicht für ihn ist, ist gegen ihn: Erdogan ...  2022-06-01  Wednesday  \n",
       "3  Die Geschworenen haben dem Hollywood-Star eine...  2022-06-01  Wednesday  \n",
       "4  Marin Cilic schlägt Andrej Rublew in 5 Sätzen ...  2022-06-01  Wednesday  "
      ]
     },
     "execution_count": 93,
     "metadata": {},
     "output_type": "execute_result"
    }
   ],
   "source": [
    "# Initialize the file system and load data\n",
    "fs = s3fs.S3FileSystem(anon=False)\n",
    "dataframe_list = [pd.read_csv(f\"s3://{file}\", index_col=0) for file in fs.ls(s3_folder_path)[1:]]\n",
    "headlines_df = pd.concat(dataframe_list, ignore_index=True)\n",
    "\n",
    "# Clean data and add features\n",
    "headlines_df[\"time_published\"] = pd.to_datetime(headlines_df[\"time_published\"])\n",
    "headlines_df[\"date\"] = headlines_df[\"time_published\"].dt.date\n",
    "headlines_df[\"weekday\"] = headlines_df[\"time_published\"].dt.strftime(\"%A\")\n",
    "\n",
    "headlines_df.head()"
   ]
  },
  {
   "cell_type": "code",
   "execution_count": 94,
   "id": "bef4e2b3",
   "metadata": {},
   "outputs": [
    {
     "name": "stdout",
     "output_type": "stream",
     "text": [
      "<class 'pandas.core.frame.DataFrame'>\n",
      "RangeIndex: 110 entries, 0 to 109\n",
      "Data columns (total 6 columns):\n",
      " #   Column          Non-Null Count  Dtype                                \n",
      "---  ------          --------------  -----                                \n",
      " 0   time_published  110 non-null    datetime64[ns, pytz.FixedOffset(120)]\n",
      " 1   kicker          110 non-null    object                               \n",
      " 2   title           110 non-null    object                               \n",
      " 3   lead            110 non-null    object                               \n",
      " 4   date            110 non-null    object                               \n",
      " 5   weekday         110 non-null    object                               \n",
      "dtypes: datetime64[ns, pytz.FixedOffset(120)](1), object(5)\n",
      "memory usage: 5.3+ KB\n"
     ]
    }
   ],
   "source": [
    "headlines_df.info()"
   ]
  },
  {
   "cell_type": "markdown",
   "id": "374b9b31",
   "metadata": {},
   "source": [
    "<a id='SU' name=\"SU\"></a>\n",
    "## [Explorative Analysis](#P0)"
   ]
  },
  {
   "cell_type": "code",
   "execution_count": 95,
   "id": "8bb23b03",
   "metadata": {},
   "outputs": [
    {
     "data": {
      "text/html": [
       "<div>\n",
       "<style scoped>\n",
       "    .dataframe tbody tr th:only-of-type {\n",
       "        vertical-align: middle;\n",
       "    }\n",
       "\n",
       "    .dataframe tbody tr th {\n",
       "        vertical-align: top;\n",
       "    }\n",
       "\n",
       "    .dataframe thead th {\n",
       "        text-align: right;\n",
       "    }\n",
       "</style>\n",
       "<table border=\"1\" class=\"dataframe\">\n",
       "  <thead>\n",
       "    <tr style=\"text-align: right;\">\n",
       "      <th></th>\n",
       "      <th>time_published</th>\n",
       "      <th>kicker</th>\n",
       "      <th>title</th>\n",
       "      <th>lead</th>\n",
       "      <th>date</th>\n",
       "      <th>weekday</th>\n",
       "    </tr>\n",
       "  </thead>\n",
       "  <tbody>\n",
       "    <tr>\n",
       "      <th>17</th>\n",
       "      <td>2022-06-01 15:42:00+02:00</td>\n",
       "      <td>Königin der Superlative</td>\n",
       "      <td>7 Fakten zum 70. Thronjubiläum von Queen Eliza...</td>\n",
       "      <td>Pokale, Päpste, Ponys: Elizabeth II. hat viel ...</td>\n",
       "      <td>2022-06-01</td>\n",
       "      <td>Wednesday</td>\n",
       "    </tr>\n",
       "    <tr>\n",
       "      <th>24</th>\n",
       "      <td>2022-06-01 11:14:00+02:00</td>\n",
       "      <td>70. Thronjubiläum</td>\n",
       "      <td>«Die Queen ist ein lebendes Monument»</td>\n",
       "      <td>Seit 70 Jahren sitzt Queen Elizabeth auf dem b...</td>\n",
       "      <td>2022-06-01</td>\n",
       "      <td>Wednesday</td>\n",
       "    </tr>\n",
       "    <tr>\n",
       "      <th>32</th>\n",
       "      <td>2022-06-02 21:35:00+02:00</td>\n",
       "      <td>70. Thronjubiläum</td>\n",
       "      <td>Queen sagt Teilnahme an Dankgottesdienst in Lo...</td>\n",
       "      <td>Die 96-jährige Monarchin verpasst die Zeremoni...</td>\n",
       "      <td>2022-06-02</td>\n",
       "      <td>Thursday</td>\n",
       "    </tr>\n",
       "    <tr>\n",
       "      <th>48</th>\n",
       "      <td>2022-06-02 15:58:00+02:00</td>\n",
       "      <td>70. Thronjubiläum der Queen</td>\n",
       "      <td>Grosse Parade zu Ehren der Queen – die Bilder</td>\n",
       "      <td>Kanonenschüsse, Marschmusik und Formationsflug...</td>\n",
       "      <td>2022-06-02</td>\n",
       "      <td>Thursday</td>\n",
       "    </tr>\n",
       "    <tr>\n",
       "      <th>57</th>\n",
       "      <td>2022-06-02 10:48:00+02:00</td>\n",
       "      <td>Amtsälteste Monarchin der Welt</td>\n",
       "      <td>Grossbritannien feiert das Thronjubiläum der Q...</td>\n",
       "      <td>Mit der Militärparade «Trooping the Colour» st...</td>\n",
       "      <td>2022-06-02</td>\n",
       "      <td>Thursday</td>\n",
       "    </tr>\n",
       "    <tr>\n",
       "      <th>83</th>\n",
       "      <td>2022-06-03 13:23:00+02:00</td>\n",
       "      <td>70. Thronjubiläum der Queen</td>\n",
       "      <td>Das grosse Queen-Quiz: Was wissen Sie über Eli...</td>\n",
       "      <td>1952 hat Queen Elizabeth II. den britischen Th...</td>\n",
       "      <td>2022-06-03</td>\n",
       "      <td>Friday</td>\n",
       "    </tr>\n",
       "    <tr>\n",
       "      <th>102</th>\n",
       "      <td>2022-06-04 17:56:00+02:00</td>\n",
       "      <td>Queen Elizabeths Thronjubiläum</td>\n",
       "      <td>Strassenparty zu Ehren der Queen: zu Besuch be...</td>\n",
       "      <td>Das 70. Thronjubiläum wird mit Paraden, Gottes...</td>\n",
       "      <td>2022-06-04</td>\n",
       "      <td>Saturday</td>\n",
       "    </tr>\n",
       "    <tr>\n",
       "      <th>107</th>\n",
       "      <td>2022-06-04 11:47:00+02:00</td>\n",
       "      <td>Debatte um Monarchie</td>\n",
       "      <td>Nicht alle feiern 70. Thronjubiläum der Queen</td>\n",
       "      <td>Britische Aktivisten hoffen auf Ende der Monar...</td>\n",
       "      <td>2022-06-04</td>\n",
       "      <td>Saturday</td>\n",
       "    </tr>\n",
       "  </tbody>\n",
       "</table>\n",
       "</div>"
      ],
      "text/plain": [
       "               time_published                          kicker  \\\n",
       "17  2022-06-01 15:42:00+02:00        Königin der Superlative    \n",
       "24  2022-06-01 11:14:00+02:00               70. Thronjubiläum   \n",
       "32  2022-06-02 21:35:00+02:00               70. Thronjubiläum   \n",
       "48  2022-06-02 15:58:00+02:00     70. Thronjubiläum der Queen   \n",
       "57  2022-06-02 10:48:00+02:00  Amtsälteste Monarchin der Welt   \n",
       "83  2022-06-03 13:23:00+02:00     70. Thronjubiläum der Queen   \n",
       "102 2022-06-04 17:56:00+02:00  Queen Elizabeths Thronjubiläum   \n",
       "107 2022-06-04 11:47:00+02:00            Debatte um Monarchie   \n",
       "\n",
       "                                                 title  \\\n",
       "17   7 Fakten zum 70. Thronjubiläum von Queen Eliza...   \n",
       "24               «Die Queen ist ein lebendes Monument»   \n",
       "32   Queen sagt Teilnahme an Dankgottesdienst in Lo...   \n",
       "48       Grosse Parade zu Ehren der Queen – die Bilder   \n",
       "57   Grossbritannien feiert das Thronjubiläum der Q...   \n",
       "83   Das grosse Queen-Quiz: Was wissen Sie über Eli...   \n",
       "102  Strassenparty zu Ehren der Queen: zu Besuch be...   \n",
       "107     Nicht alle feiern 70. Thronjubiläum der Queen    \n",
       "\n",
       "                                                  lead        date    weekday  \n",
       "17   Pokale, Päpste, Ponys: Elizabeth II. hat viel ...  2022-06-01  Wednesday  \n",
       "24   Seit 70 Jahren sitzt Queen Elizabeth auf dem b...  2022-06-01  Wednesday  \n",
       "32   Die 96-jährige Monarchin verpasst die Zeremoni...  2022-06-02   Thursday  \n",
       "48   Kanonenschüsse, Marschmusik und Formationsflug...  2022-06-02   Thursday  \n",
       "57   Mit der Militärparade «Trooping the Colour» st...  2022-06-02   Thursday  \n",
       "83   1952 hat Queen Elizabeth II. den britischen Th...  2022-06-03     Friday  \n",
       "102  Das 70. Thronjubiläum wird mit Paraden, Gottes...  2022-06-04   Saturday  \n",
       "107  Britische Aktivisten hoffen auf Ende der Monar...  2022-06-04   Saturday  "
      ]
     },
     "execution_count": 95,
     "metadata": {},
     "output_type": "execute_result"
    }
   ],
   "source": [
    "headlines_df[headlines_df[\"title\"].str.contains(\"Queen\")]"
   ]
  },
  {
   "cell_type": "code",
   "execution_count": 98,
   "id": "dd5550e1",
   "metadata": {},
   "outputs": [
    {
     "data": {
      "text/html": [
       "<div>\n",
       "<style scoped>\n",
       "    .dataframe tbody tr th:only-of-type {\n",
       "        vertical-align: middle;\n",
       "    }\n",
       "\n",
       "    .dataframe tbody tr th {\n",
       "        vertical-align: top;\n",
       "    }\n",
       "\n",
       "    .dataframe thead th {\n",
       "        text-align: right;\n",
       "    }\n",
       "</style>\n",
       "<table border=\"1\" class=\"dataframe\">\n",
       "  <thead>\n",
       "    <tr style=\"text-align: right;\">\n",
       "      <th></th>\n",
       "      <th>time_published</th>\n",
       "      <th>kicker</th>\n",
       "      <th>title</th>\n",
       "      <th>lead</th>\n",
       "      <th>date</th>\n",
       "      <th>weekday</th>\n",
       "    </tr>\n",
       "  </thead>\n",
       "  <tbody>\n",
       "    <tr>\n",
       "      <th>20</th>\n",
       "      <td>2022-06-01 14:33:00+02:00</td>\n",
       "      <td>Krieg in der Ukraine</td>\n",
       "      <td>Waffen für die Ukraine: «Scholz versucht den B...</td>\n",
       "      <td>Nach langem Zögern sagt Scholz der Ukraine wei...</td>\n",
       "      <td>2022-06-01</td>\n",
       "      <td>Wednesday</td>\n",
       "    </tr>\n",
       "    <tr>\n",
       "      <th>34</th>\n",
       "      <td>2022-06-02 20:25:00+02:00</td>\n",
       "      <td>Angriff auf die Ukraine</td>\n",
       "      <td>Anne Applebaum: «Putin muss vom Geld abgeschni...</td>\n",
       "      <td>Die preisgekrönte Journalistin und Historikeri...</td>\n",
       "      <td>2022-06-02</td>\n",
       "      <td>Thursday</td>\n",
       "    </tr>\n",
       "    <tr>\n",
       "      <th>43</th>\n",
       "      <td>2022-06-02 16:45:00+02:00</td>\n",
       "      <td>100 Tage Krieg in der Ukraine</td>\n",
       "      <td>Ukraine-Krieg: Das hat sich für die Schweiz ve...</td>\n",
       "      <td>Fast 100 Tage dauert der Krieg bereits. Die Au...</td>\n",
       "      <td>2022-06-02</td>\n",
       "      <td>Thursday</td>\n",
       "    </tr>\n",
       "    <tr>\n",
       "      <th>72</th>\n",
       "      <td>2022-06-03 19:02:00+02:00</td>\n",
       "      <td>Waffen für die Ukraine?</td>\n",
       "      <td>Schweiz lockert ihre Praxis in der Waffenfrage...</td>\n",
       "      <td>Es bleibt dabei: Deutschland darf Munition aus...</td>\n",
       "      <td>2022-06-03</td>\n",
       "      <td>Friday</td>\n",
       "    </tr>\n",
       "    <tr>\n",
       "      <th>77</th>\n",
       "      <td>2022-06-03 16:38:00+02:00</td>\n",
       "      <td>100 Tage Ukraine-Krieg</td>\n",
       "      <td>Kiew – wo der Krieg als Gespenst durch die Str...</td>\n",
       "      <td>Viele haben die Stadt verlassen. Wer geblieben...</td>\n",
       "      <td>2022-06-03</td>\n",
       "      <td>Friday</td>\n",
       "    </tr>\n",
       "    <tr>\n",
       "      <th>86</th>\n",
       "      <td>2022-06-03 11:28:00+02:00</td>\n",
       "      <td>Krieg in der Ukraine</td>\n",
       "      <td>Militärexperte: «US-Waffen für Ukraine könnten...</td>\n",
       "      <td>Die USA und Deutschland liefern moderne Waffen...</td>\n",
       "      <td>2022-06-03</td>\n",
       "      <td>Friday</td>\n",
       "    </tr>\n",
       "    <tr>\n",
       "      <th>103</th>\n",
       "      <td>2022-06-04 16:37:00+02:00</td>\n",
       "      <td>Flüchtlinge aus der Ukraine</td>\n",
       "      <td>Kantone brauchen dringend mehr Betreuungsperso...</td>\n",
       "      <td>Neun Kantone mussten 400 neue Stellen für die ...</td>\n",
       "      <td>2022-06-04</td>\n",
       "      <td>Saturday</td>\n",
       "    </tr>\n",
       "    <tr>\n",
       "      <th>108</th>\n",
       "      <td>2022-06-04 08:19:00+02:00</td>\n",
       "      <td>Moldawien und der Ukrainekrieg</td>\n",
       "      <td>«Wenn die Russen aus dem Wachturm schauen, sin...</td>\n",
       "      <td>Der Donauhafen von Giurgiulesti ist der einzig...</td>\n",
       "      <td>2022-06-04</td>\n",
       "      <td>Saturday</td>\n",
       "    </tr>\n",
       "  </tbody>\n",
       "</table>\n",
       "</div>"
      ],
      "text/plain": [
       "               time_published                          kicker  \\\n",
       "20  2022-06-01 14:33:00+02:00            Krieg in der Ukraine   \n",
       "34  2022-06-02 20:25:00+02:00         Angriff auf die Ukraine   \n",
       "43  2022-06-02 16:45:00+02:00   100 Tage Krieg in der Ukraine   \n",
       "72  2022-06-03 19:02:00+02:00         Waffen für die Ukraine?   \n",
       "77  2022-06-03 16:38:00+02:00          100 Tage Ukraine-Krieg   \n",
       "86  2022-06-03 11:28:00+02:00            Krieg in der Ukraine   \n",
       "103 2022-06-04 16:37:00+02:00     Flüchtlinge aus der Ukraine   \n",
       "108 2022-06-04 08:19:00+02:00  Moldawien und der Ukrainekrieg   \n",
       "\n",
       "                                                 title  \\\n",
       "20   Waffen für die Ukraine: «Scholz versucht den B...   \n",
       "34   Anne Applebaum: «Putin muss vom Geld abgeschni...   \n",
       "43   Ukraine-Krieg: Das hat sich für die Schweiz ve...   \n",
       "72   Schweiz lockert ihre Praxis in der Waffenfrage...   \n",
       "77   Kiew – wo der Krieg als Gespenst durch die Str...   \n",
       "86   Militärexperte: «US-Waffen für Ukraine könnten...   \n",
       "103  Kantone brauchen dringend mehr Betreuungsperso...   \n",
       "108  «Wenn die Russen aus dem Wachturm schauen, sin...   \n",
       "\n",
       "                                                  lead        date    weekday  \n",
       "20   Nach langem Zögern sagt Scholz der Ukraine wei...  2022-06-01  Wednesday  \n",
       "34   Die preisgekrönte Journalistin und Historikeri...  2022-06-02   Thursday  \n",
       "43   Fast 100 Tage dauert der Krieg bereits. Die Au...  2022-06-02   Thursday  \n",
       "72   Es bleibt dabei: Deutschland darf Munition aus...  2022-06-03     Friday  \n",
       "77   Viele haben die Stadt verlassen. Wer geblieben...  2022-06-03     Friday  \n",
       "86   Die USA und Deutschland liefern moderne Waffen...  2022-06-03     Friday  \n",
       "103  Neun Kantone mussten 400 neue Stellen für die ...  2022-06-04   Saturday  \n",
       "108  Der Donauhafen von Giurgiulesti ist der einzig...  2022-06-04   Saturday  "
      ]
     },
     "execution_count": 98,
     "metadata": {},
     "output_type": "execute_result"
    }
   ],
   "source": [
    "headlines_df[headlines_df[\"kicker\"].str.contains(\"Ukraine\")]"
   ]
  },
  {
   "cell_type": "code",
   "execution_count": 96,
   "id": "73e89ee8",
   "metadata": {},
   "outputs": [
    {
     "data": {
      "text/plain": [
       "date\n",
       "2022-06-01    29\n",
       "2022-06-02    36\n",
       "2022-06-03    30\n",
       "2022-06-04    15\n",
       "Name: date, dtype: int64"
      ]
     },
     "execution_count": 96,
     "metadata": {},
     "output_type": "execute_result"
    }
   ],
   "source": [
    "headlines_df.groupby(\"date\")[\"date\"].count()"
   ]
  },
  {
   "cell_type": "markdown",
   "id": "57561bd5-2390-43be-b47e-6450df034c69",
   "metadata": {},
   "source": [
    "<a id='CL'></a>\n",
    "## [Conclusion](#P0)\n",
    "\n"
   ]
  },
  {
   "cell_type": "markdown",
   "id": "66741e1f-51a5-49b7-8012-077607aacbca",
   "metadata": {},
   "source": [
    "<div style=\"border-top:0.1cm solid #EF475B\"></div>\n",
    "    <strong><a href='#Q0'><div style=\"text-align: right\"> <h3>End of this Notebook.</h3></div></a></strong>"
   ]
  }
 ],
 "metadata": {
  "kernelspec": {
   "display_name": "aws_webscraping_automation",
   "language": "python",
   "name": "aws_webscraping_automation"
  },
  "language_info": {
   "codemirror_mode": {
    "name": "ipython",
    "version": 3
   },
   "file_extension": ".py",
   "mimetype": "text/x-python",
   "name": "python",
   "nbconvert_exporter": "python",
   "pygments_lexer": "ipython3",
   "version": "3.10.4"
  },
  "toc": {
   "base_numbering": 1,
   "nav_menu": {},
   "number_sections": true,
   "sideBar": true,
   "skip_h1_title": false,
   "title_cell": "Table of Contents",
   "title_sidebar": "Contents",
   "toc_cell": false,
   "toc_position": {},
   "toc_section_display": true,
   "toc_window_display": true
  }
 },
 "nbformat": 4,
 "nbformat_minor": 5
}
